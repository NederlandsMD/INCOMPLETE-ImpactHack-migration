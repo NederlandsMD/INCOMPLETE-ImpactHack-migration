{
 "cells": [
  {
   "cell_type": "markdown",
   "metadata": {},
   "source": [
    "# Dataset exploration"
   ]
  },
  {
   "cell_type": "code",
   "execution_count": 25,
   "metadata": {},
   "outputs": [],
   "source": [
    "import numpy as np\n",
    "import pandas as pd\n",
    "import matplotlib.pyplot as plt\n",
    "import matplotlib\n",
    "\n",
    "plt.rcParams.update({'font.size':25})\n",
    "%matplotlib inline"
   ]
  },
  {
   "cell_type": "code",
   "execution_count": 2,
   "metadata": {},
   "outputs": [
    {
     "name": "stdout",
     "output_type": "stream",
     "text": [
      " Volume in drive C has no label.\n",
      " Volume Serial Number is D4D9-A6BE\n",
      "\n",
      " Directory of C:\\Users\\Ryan Abrahams\\Desktop\\hackathon\\ImpactHack-migration\\Datasets\n",
      "\n",
      "09/21/2018  11:20 PM    <DIR>          .\n",
      "09/21/2018  11:20 PM    <DIR>          ..\n",
      "09/21/2018  11:20 PM    <DIR>          .ipynb_checkpoints\n",
      "09/21/2018  11:16 PM            21,596 Asylum_Country_Origin_00_17.csv\n",
      "09/21/2018  11:16 PM         3,905,549 COO_v_COD_90_14.csv\n",
      "09/21/2018  11:16 PM           104,232 Empl_Ag_91_17.csv\n",
      "09/21/2018  11:16 PM         1,237,586 Floods_Drought_2014.xlsx\n",
      "09/21/2018  11:16 PM            29,377 GINI_90_17.csv\n",
      "09/21/2018  11:16 PM             9,865 Hunger_Index_90_16.csv\n",
      "09/21/2018  11:16 PM            75,526 Pop_90_17.csv\n",
      "09/21/2018  11:20 PM                72 Untitled.ipynb\n",
      "               8 File(s)      5,383,803 bytes\n",
      "               3 Dir(s)  459,856,023,552 bytes free\n"
     ]
    }
   ],
   "source": [
    "ls"
   ]
  },
  {
   "cell_type": "markdown",
   "metadata": {},
   "source": [
    "# Asylym data"
   ]
  },
  {
   "cell_type": "code",
   "execution_count": 4,
   "metadata": {
    "collapsed": true
   },
   "outputs": [],
   "source": [
    "asylum = pd.read_csv(\"Asylum_Country_Origin_00_17.csv\")"
   ]
  },
  {
   "cell_type": "code",
   "execution_count": 5,
   "metadata": {},
   "outputs": [
    {
     "data": {
      "text/html": [
       "<div>\n",
       "<style>\n",
       "    .dataframe thead tr:only-child th {\n",
       "        text-align: right;\n",
       "    }\n",
       "\n",
       "    .dataframe thead th {\n",
       "        text-align: left;\n",
       "    }\n",
       "\n",
       "    .dataframe tbody tr th {\n",
       "        vertical-align: top;\n",
       "    }\n",
       "</style>\n",
       "<table border=\"1\" class=\"dataframe\">\n",
       "  <thead>\n",
       "    <tr style=\"text-align: right;\">\n",
       "      <th></th>\n",
       "      <th>yr_2007</th>\n",
       "      <th>cartodb_id</th>\n",
       "      <th>name</th>\n",
       "      <th>country_or</th>\n",
       "      <th>yr_2000</th>\n",
       "      <th>yr_2001</th>\n",
       "      <th>yr_2002</th>\n",
       "      <th>yr_2003</th>\n",
       "      <th>yr_2004</th>\n",
       "      <th>yr_2005</th>\n",
       "      <th>...</th>\n",
       "      <th>yr_2008</th>\n",
       "      <th>yr_2009</th>\n",
       "      <th>yr_2010</th>\n",
       "      <th>yr_2011</th>\n",
       "      <th>yr_2012</th>\n",
       "      <th>yr_2013</th>\n",
       "      <th>yr_2014</th>\n",
       "      <th>yr_2015</th>\n",
       "      <th>yr_2016</th>\n",
       "      <th>yr_2017</th>\n",
       "    </tr>\n",
       "  </thead>\n",
       "  <tbody>\n",
       "    <tr>\n",
       "      <th>0</th>\n",
       "      <td>3609746.0</td>\n",
       "      <td>1</td>\n",
       "      <td>Afghanistan</td>\n",
       "      <td>Afghanistan</td>\n",
       "      <td>4778785.0</td>\n",
       "      <td>5166652.0</td>\n",
       "      <td>6013458.0</td>\n",
       "      <td>3174558.0</td>\n",
       "      <td>3598240.0</td>\n",
       "      <td>3192177.0</td>\n",
       "      <td>...</td>\n",
       "      <td>3374020.0</td>\n",
       "      <td>3280950.0</td>\n",
       "      <td>4404457.0</td>\n",
       "      <td>4250315.0</td>\n",
       "      <td>4132670.0</td>\n",
       "      <td>3600396.0</td>\n",
       "      <td>3713242.0</td>\n",
       "      <td>4434901.0</td>\n",
       "      <td>5166125.0</td>\n",
       "      <td>5336564.0</td>\n",
       "    </tr>\n",
       "    <tr>\n",
       "      <th>1</th>\n",
       "      <td>198970.0</td>\n",
       "      <td>2</td>\n",
       "      <td>Angola</td>\n",
       "      <td>Angola</td>\n",
       "      <td>705464.0</td>\n",
       "      <td>695600.0</td>\n",
       "      <td>736745.0</td>\n",
       "      <td>474278.0</td>\n",
       "      <td>328645.0</td>\n",
       "      <td>277950.0</td>\n",
       "      <td>...</td>\n",
       "      <td>185186.0</td>\n",
       "      <td>158649.0</td>\n",
       "      <td>136078.0</td>\n",
       "      <td>133414.0</td>\n",
       "      <td>136546.0</td>\n",
       "      <td>110198.0</td>\n",
       "      <td>89743.0</td>\n",
       "      <td>54755.0</td>\n",
       "      <td>33135.0</td>\n",
       "      <td>33831.0</td>\n",
       "    </tr>\n",
       "    <tr>\n",
       "      <th>2</th>\n",
       "      <td>16982.0</td>\n",
       "      <td>3</td>\n",
       "      <td>Albania</td>\n",
       "      <td>Albania</td>\n",
       "      <td>9620.0</td>\n",
       "      <td>11604.0</td>\n",
       "      <td>15756.0</td>\n",
       "      <td>14920.0</td>\n",
       "      <td>13806.0</td>\n",
       "      <td>15301.0</td>\n",
       "      <td>...</td>\n",
       "      <td>16828.0</td>\n",
       "      <td>17303.0</td>\n",
       "      <td>16166.0</td>\n",
       "      <td>16367.0</td>\n",
       "      <td>24512.0</td>\n",
       "      <td>28324.0</td>\n",
       "      <td>25370.0</td>\n",
       "      <td>52571.0</td>\n",
       "      <td>34853.0</td>\n",
       "      <td>30918.0</td>\n",
       "    </tr>\n",
       "    <tr>\n",
       "      <th>3</th>\n",
       "      <td>12.0</td>\n",
       "      <td>4</td>\n",
       "      <td>Andorra</td>\n",
       "      <td>Andorra</td>\n",
       "      <td>3.0</td>\n",
       "      <td>8.0</td>\n",
       "      <td>13.0</td>\n",
       "      <td>13.0</td>\n",
       "      <td>7.0</td>\n",
       "      <td>12.0</td>\n",
       "      <td>...</td>\n",
       "      <td>9.0</td>\n",
       "      <td>8.0</td>\n",
       "      <td>8.0</td>\n",
       "      <td>6.0</td>\n",
       "      <td>7.0</td>\n",
       "      <td>5.0</td>\n",
       "      <td>7.0</td>\n",
       "      <td>9.0</td>\n",
       "      <td>6.0</td>\n",
       "      <td>NaN</td>\n",
       "    </tr>\n",
       "    <tr>\n",
       "      <th>4</th>\n",
       "      <td>318.0</td>\n",
       "      <td>5</td>\n",
       "      <td>United Arab Emirates</td>\n",
       "      <td>United Arab Emirates</td>\n",
       "      <td>25.0</td>\n",
       "      <td>49.0</td>\n",
       "      <td>69.0</td>\n",
       "      <td>45.0</td>\n",
       "      <td>82.0</td>\n",
       "      <td>46.0</td>\n",
       "      <td>...</td>\n",
       "      <td>267.0</td>\n",
       "      <td>440.0</td>\n",
       "      <td>453.0</td>\n",
       "      <td>500.0</td>\n",
       "      <td>608.0</td>\n",
       "      <td>156.0</td>\n",
       "      <td>170.0</td>\n",
       "      <td>204.0</td>\n",
       "      <td>277.0</td>\n",
       "      <td>325.0</td>\n",
       "    </tr>\n",
       "  </tbody>\n",
       "</table>\n",
       "<p>5 rows × 21 columns</p>\n",
       "</div>"
      ],
      "text/plain": [
       "     yr_2007  cartodb_id                  name            country_or  \\\n",
       "0  3609746.0           1           Afghanistan           Afghanistan   \n",
       "1   198970.0           2                Angola                Angola   \n",
       "2    16982.0           3               Albania               Albania   \n",
       "3       12.0           4               Andorra               Andorra   \n",
       "4      318.0           5  United Arab Emirates  United Arab Emirates   \n",
       "\n",
       "     yr_2000    yr_2001    yr_2002    yr_2003    yr_2004    yr_2005  \\\n",
       "0  4778785.0  5166652.0  6013458.0  3174558.0  3598240.0  3192177.0   \n",
       "1   705464.0   695600.0   736745.0   474278.0   328645.0   277950.0   \n",
       "2     9620.0    11604.0    15756.0    14920.0    13806.0    15301.0   \n",
       "3        3.0        8.0       13.0       13.0        7.0       12.0   \n",
       "4       25.0       49.0       69.0       45.0       82.0       46.0   \n",
       "\n",
       "     ...        yr_2008    yr_2009    yr_2010    yr_2011    yr_2012  \\\n",
       "0    ...      3374020.0  3280950.0  4404457.0  4250315.0  4132670.0   \n",
       "1    ...       185186.0   158649.0   136078.0   133414.0   136546.0   \n",
       "2    ...        16828.0    17303.0    16166.0    16367.0    24512.0   \n",
       "3    ...            9.0        8.0        8.0        6.0        7.0   \n",
       "4    ...          267.0      440.0      453.0      500.0      608.0   \n",
       "\n",
       "     yr_2013    yr_2014    yr_2015    yr_2016    yr_2017  \n",
       "0  3600396.0  3713242.0  4434901.0  5166125.0  5336564.0  \n",
       "1   110198.0    89743.0    54755.0    33135.0    33831.0  \n",
       "2    28324.0    25370.0    52571.0    34853.0    30918.0  \n",
       "3        5.0        7.0        9.0        6.0        NaN  \n",
       "4      156.0      170.0      204.0      277.0      325.0  \n",
       "\n",
       "[5 rows x 21 columns]"
      ]
     },
     "execution_count": 5,
     "metadata": {},
     "output_type": "execute_result"
    }
   ],
   "source": [
    "asylum.head()"
   ]
  },
  {
   "cell_type": "code",
   "execution_count": 6,
   "metadata": {},
   "outputs": [
    {
     "name": "stdout",
     "output_type": "stream",
     "text": [
      "['yr_2000', 'yr_2001', 'yr_2002', 'yr_2003', 'yr_2004', 'yr_2005', 'yr_2006', 'yr_2007', 'yr_2008', 'yr_2009', 'yr_2010', 'yr_2011', 'yr_2012', 'yr_2013', 'yr_2014', 'yr_2015', 'yr_2016', 'yr_2017']\n"
     ]
    }
   ],
   "source": [
    "yr_keys = [\"yr_\"]*18\n",
    "for i in range(len(yr_keys)):\n",
    "    yr_keys[i] = yr_keys[i] + str(2000+i)\n",
    "    \n",
    "print(yr_keys)"
   ]
  },
  {
   "cell_type": "code",
   "execution_count": 39,
   "metadata": {},
   "outputs": [
    {
     "data": {
      "image/png": "[encoded data removed]",
      "text/plain": [
       "<matplotlib.figure.Figure at 0x1b9c56ed6d8>"
      ]
     },
     "metadata": {},
     "output_type": "display_data"
    }
   ],
   "source": [
    "# albania\n",
    "albania_number = asylum.loc[2,yr_keys]\n",
    "fig = plt.figure(figsize=(14,8))\n",
    "ax = fig.add_subplot(111)\n",
    "ax.plot(albania_number, label=\"Albania\")\n",
    "ax.set_xticklabels(list(map(lambda x: x.split(\"_\")[1],yr_keys)))\n",
    "\n",
    "ax.plot(asylum.loc[97,yr_keys], label=\"Liberia\")\n",
    "\n",
    "ax.legend(loc=2)\n",
    "ax.set_xlabel(\"Year\")\n",
    "ax.set_ylabel(\"Number of Refugees\")\n",
    "ax.set_title(\"Number of Refugees\")\n",
    "fig.savefig(\"NumberOfRefugees.png\")"
   ]
  },
  {
   "cell_type": "code",
   "execution_count": 36,
   "metadata": {},
   "outputs": [
    {
     "data": {
      "text/plain": [
       "90                  Cambodia\n",
       "91                  Kiribati\n",
       "92     Saint Kitts and Nevis\n",
       "93               South Korea\n",
       "94                    Kuwait\n",
       "95                      Laos\n",
       "96                   Lebanon\n",
       "97                   Liberia\n",
       "98                     Libya\n",
       "99               Saint Lucia\n",
       "100            Liechtenstein\n",
       "Name: name, dtype: object"
      ]
     },
     "execution_count": 36,
     "metadata": {},
     "output_type": "execute_result"
    }
   ],
   "source": [
    "asylum.loc[90:100,'name']"
   ]
  },
  {
   "cell_type": "code",
   "execution_count": null,
   "metadata": {
    "collapsed": true
   },
   "outputs": [],
   "source": []
  },
  {
   "cell_type": "code",
   "execution_count": null,
   "metadata": {
    "collapsed": true
   },
   "outputs": [],
   "source": []
  },
  {
   "cell_type": "markdown",
   "metadata": {},
   "source": [
    "# COO_v_COD_90_14.csv"
   ]
  },
  {
   "cell_type": "code",
   "execution_count": 44,
   "metadata": {},
   "outputs": [],
   "source": [
    "file = \"COO_v_COD_90_14.csv\"\n",
    "dat = [line.split(\",\") for line in open(file)]"
   ]
  },
  {
   "cell_type": "code",
   "execution_count": 47,
   "metadata": {},
   "outputs": [],
   "source": [
    "header = dat[0]\n",
    "data = dat[1:]"
   ]
  },
  {
   "cell_type": "code",
   "execution_count": null,
   "metadata": {
    "collapsed": true
   },
   "outputs": [],
   "source": []
  }
 ],
 "metadata": {
  "kernelspec": {
   "display_name": "Python 3",
   "language": "python",
   "name": "python3"
  },
  "language_info": {
   "codemirror_mode": {
    "name": "ipython",
    "version": 3
   },
   "file_extension": ".py",
   "mimetype": "text/x-python",
   "name": "python",
   "nbconvert_exporter": "python",
   "pygments_lexer": "ipython3",
   "version": "3.6.3"
  }
 },
 "nbformat": 4,
 "nbformat_minor": 2
}
